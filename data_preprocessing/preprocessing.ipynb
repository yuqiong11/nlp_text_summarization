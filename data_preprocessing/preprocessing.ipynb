{
  "nbformat": 4,
  "nbformat_minor": 0,
  "metadata": {
    "colab": {
      "name": "preprocessing.ipynb",
      "provenance": [],
      "collapsed_sections": []
    },
    "kernelspec": {
      "name": "python3",
      "display_name": "Python 3"
    },
    "accelerator": "GPU"
  },
  "cells": [
    {
      "cell_type": "code",
      "metadata": {
        "id": "hfTEJxlRofjo"
      },
      "source": [
        "import os\n",
        "import pandas as pd\n",
        "import csv\n",
        "import numpy as np\n",
        "import matplotlib.pyplot as plt\n",
        "from sklearn.model_selection import train_test_split\n",
        "from sklearn.model_selection import train_test_split\n",
        "from torch.utils.data import DataLoader"
      ],
      "execution_count": null,
      "outputs": []
    },
    {
      "cell_type": "code",
      "metadata": {
        "id": "q15fH_BPpeiJ"
      },
      "source": [
        "# change to dataset's path as you wish\n",
        "os.chdir('/..')"
      ],
      "execution_count": 6,
      "outputs": []
    },
    {
      "cell_type": "code",
      "metadata": {
        "id": "-URCfWWeEC1C",
        "colab": {
          "base_uri": "https://localhost:8080/",
          "height": 419
        },
        "outputId": "a153f222-c237-4c53-a2d8-f24fd207b462"
      },
      "source": [
        "# access and integrate the data into pd.DataFrame format\n",
        "import glob\n",
        "\n",
        "# return a list of sorted .gz file\n",
        "Myfiles = [f for f in glob.glob('*.gz')]\n",
        "Myfiles.sort()\n",
        "\n",
        "# return a list of .csv file\n",
        "df = []\n",
        "for files in Myfiles:\n",
        "    file = pd.read_csv(files, sep=' ',header=None)\n",
        "    df.append(file)\n",
        "\n",
        "# choose the first 50 .csv files, select column and change the column name\n",
        "files_concat = pd.concat(df[:50],  ignore_index=True)\n",
        "files_concat = files_concat[[3,7]]\n",
        "files_concat.columns = ['summary', 'text']\n",
        "files_concat"
      ],
      "execution_count": 7,
      "outputs": [
        {
          "output_type": "execute_result",
          "data": {
            "text/html": [
              "<div>\n",
              "<style scoped>\n",
              "    .dataframe tbody tr th:only-of-type {\n",
              "        vertical-align: middle;\n",
              "    }\n",
              "\n",
              "    .dataframe tbody tr th {\n",
              "        vertical-align: top;\n",
              "    }\n",
              "\n",
              "    .dataframe thead th {\n",
              "        text-align: right;\n",
              "    }\n",
              "</style>\n",
              "<table border=\"1\" class=\"dataframe\">\n",
              "  <thead>\n",
              "    <tr style=\"text-align: right;\">\n",
              "      <th></th>\n",
              "      <th>summary</th>\n",
              "      <th>text</th>\n",
              "    </tr>\n",
              "  </thead>\n",
              "  <tbody>\n",
              "    <tr>\n",
              "      <th>0</th>\n",
              "      <td>this invention relates to novel calcium phosph...</td>\n",
              "      <td>throughout the following description specific ...</td>\n",
              "    </tr>\n",
              "    <tr>\n",
              "      <th>1</th>\n",
              "      <td>a stapler , particularly for suturing skin wou...</td>\n",
              "      <td>preferred embodiments of the invention are ill...</td>\n",
              "    </tr>\n",
              "    <tr>\n",
              "      <th>2</th>\n",
              "      <td>a nerve guidance conduit includes a spiral str...</td>\n",
              "      <td>embodiments of the present invention provide n...</td>\n",
              "    </tr>\n",
              "    <tr>\n",
              "      <th>3</th>\n",
              "      <td>a rail connector and improvement in seat base ...</td>\n",
              "      <td>referring now to the drawings , and particular...</td>\n",
              "    </tr>\n",
              "    <tr>\n",
              "      <th>4</th>\n",
              "      <td>an anvil assembly is disclosed that includes a...</td>\n",
              "      <td>exemplary embodiments of the presently disclos...</td>\n",
              "    </tr>\n",
              "    <tr>\n",
              "      <th>...</th>\n",
              "      <td>...</td>\n",
              "      <td>...</td>\n",
              "    </tr>\n",
              "    <tr>\n",
              "      <th>52229</th>\n",
              "      <td>a transcutaneous electric nerve stimulator ele...</td>\n",
              "      <td>the basic construction of electrodes for use i...</td>\n",
              "    </tr>\n",
              "    <tr>\n",
              "      <th>52230</th>\n",
              "      <td>an apparatus for removing a sheath from a syri...</td>\n",
              "      <td>apparatus will now be described that enables t...</td>\n",
              "    </tr>\n",
              "    <tr>\n",
              "      <th>52231</th>\n",
              "      <td>a wearable load supporting system has a rigid ...</td>\n",
              "      <td>referring more particularly to fig1 - 5 , wher...</td>\n",
              "    </tr>\n",
              "    <tr>\n",
              "      <th>52232</th>\n",
              "      <td>this protection covers the process for prepari...</td>\n",
              "      <td>this product is a medicament . since it consis...</td>\n",
              "    </tr>\n",
              "    <tr>\n",
              "      <th>52233</th>\n",
              "      <td>a carton with an improved dispenser at one of ...</td>\n",
              "      <td>the present invention is intended primarily fo...</td>\n",
              "    </tr>\n",
              "  </tbody>\n",
              "</table>\n",
              "<p>52234 rows × 2 columns</p>\n",
              "</div>"
            ],
            "text/plain": [
              "                                                 summary                                               text\n",
              "0      this invention relates to novel calcium phosph...  throughout the following description specific ...\n",
              "1      a stapler , particularly for suturing skin wou...  preferred embodiments of the invention are ill...\n",
              "2      a nerve guidance conduit includes a spiral str...  embodiments of the present invention provide n...\n",
              "3      a rail connector and improvement in seat base ...  referring now to the drawings , and particular...\n",
              "4      an anvil assembly is disclosed that includes a...  exemplary embodiments of the presently disclos...\n",
              "...                                                  ...                                                ...\n",
              "52229  a transcutaneous electric nerve stimulator ele...  the basic construction of electrodes for use i...\n",
              "52230  an apparatus for removing a sheath from a syri...  apparatus will now be described that enables t...\n",
              "52231  a wearable load supporting system has a rigid ...  referring more particularly to fig1 - 5 , wher...\n",
              "52232  this protection covers the process for prepari...  this product is a medicament . since it consis...\n",
              "52233  a carton with an improved dispenser at one of ...  the present invention is intended primarily fo...\n",
              "\n",
              "[52234 rows x 2 columns]"
            ]
          },
          "metadata": {
            "tags": []
          },
          "execution_count": 7
        }
      ]
    },
    {
      "cell_type": "code",
      "metadata": {
        "id": "RGC3DR7AxSQN"
      },
      "source": [
        "# word_count_lists for both texts and summaries\n",
        "word_text = []\n",
        "word_summary = []\n",
        "for i in range(len(files_concat)):\n",
        "  word_text.append(len(files_concat['text'][i].split()))\n",
        "  word_summary.append(len(files_concat['summary'][i].split()))"
      ],
      "execution_count": 8,
      "outputs": []
    },
    {
      "cell_type": "code",
      "metadata": {
        "colab": {
          "base_uri": "https://localhost:8080/"
        },
        "id": "f3SOluBSYFhu",
        "outputId": "0988bc38-957c-4f02-d2d4-e2d70c1626eb"
      },
      "source": [
        "len(word_text)"
      ],
      "execution_count": 9,
      "outputs": [
        {
          "output_type": "execute_result",
          "data": {
            "text/plain": [
              "52234"
            ]
          },
          "metadata": {
            "tags": []
          },
          "execution_count": 9
        }
      ]
    },
    {
      "cell_type": "code",
      "metadata": {
        "id": "fj657oH54nw_",
        "colab": {
          "base_uri": "https://localhost:8080/",
          "height": 296
        },
        "outputId": "b974e1a8-244c-4f76-d73e-87268f115140"
      },
      "source": [
        "import matplotlib.pyplot as plt\n",
        "plt.hist(word_text, bins=50)\n",
        "plt.xlim((0,20000))\n",
        "plt.xlabel('text length')\n",
        "plt.ylabel('count')\n",
        "plt.show"
      ],
      "execution_count": 10,
      "outputs": [
        {
          "output_type": "execute_result",
          "data": {
            "text/plain": [
              "<function matplotlib.pyplot.show>"
            ]
          },
          "metadata": {
            "tags": []
          },
          "execution_count": 10
        },
        {
          "output_type": "display_data",
          "data": {
            "image/png": "[encoded data removed]",
            "text/plain": [
              "<Figure size 432x288 with 1 Axes>"
            ]
          },
          "metadata": {
            "tags": [],
            "needs_background": "light"
          }
        }
      ]
    },
    {
      "cell_type": "code",
      "metadata": {
        "id": "Yuv7cPKX4-Db",
        "colab": {
          "base_uri": "https://localhost:8080/",
          "height": 296
        },
        "outputId": "537497eb-fd0c-476a-dc35-15ffa31025c4"
      },
      "source": [
        "plt.hist(word_summary, bins=50)\n",
        "plt.xlim((0,500))\n",
        "plt.xlabel('summary length')\n",
        "plt.ylabel('count')\n",
        "plt.show"
      ],
      "execution_count": 11,
      "outputs": [
        {
          "output_type": "execute_result",
          "data": {
            "text/plain": [
              "<function matplotlib.pyplot.show>"
            ]
          },
          "metadata": {
            "tags": []
          },
          "execution_count": 11
        },
        {
          "output_type": "display_data",
          "data": {
            "image/png": "[encoded data removed]",
            "text/plain": [
              "<Figure size 432x288 with 1 Axes>"
            ]
          },
          "metadata": {
            "tags": [],
            "needs_background": "light"
          }
        }
      ]
    },
    {
      "cell_type": "code",
      "metadata": {
        "id": "Z2EFlZ9_5Irq"
      },
      "source": [
        "# include only texts with text_length <= 4000 and summary_length <=200\n",
        "index_list = []\n",
        "for i in range(len(files_concat)):\n",
        "  count_text = len(files_concat['text'][i].split())\n",
        "  count_summary = len(files_concat['summary'][i].split())\n",
        "  if  count_text <= 4000 and count_summary <=200:\n",
        "    index_list.append(i)\n",
        "\n",
        "df = files_concat.iloc[index_list]\n",
        "df.reset_index(inplace = True) \n",
        "\n",
        "# select only the first 5000 samples\n",
        "df_ = df[:5000]"
      ],
      "execution_count": 12,
      "outputs": []
    },
    {
      "cell_type": "code",
      "metadata": {
        "colab": {
          "base_uri": "https://localhost:8080/",
          "height": 419
        },
        "id": "mt_5nnZibL04",
        "outputId": "9b0fbfd6-a70f-4d8e-d325-9bdb1cdbec73"
      },
      "source": [
        "df_"
      ],
      "execution_count": 15,
      "outputs": [
        {
          "output_type": "execute_result",
          "data": {
            "text/html": [
              "<div>\n",
              "<style scoped>\n",
              "    .dataframe tbody tr th:only-of-type {\n",
              "        vertical-align: middle;\n",
              "    }\n",
              "\n",
              "    .dataframe tbody tr th {\n",
              "        vertical-align: top;\n",
              "    }\n",
              "\n",
              "    .dataframe thead th {\n",
              "        text-align: right;\n",
              "    }\n",
              "</style>\n",
              "<table border=\"1\" class=\"dataframe\">\n",
              "  <thead>\n",
              "    <tr style=\"text-align: right;\">\n",
              "      <th></th>\n",
              "      <th>index</th>\n",
              "      <th>summary</th>\n",
              "      <th>text</th>\n",
              "    </tr>\n",
              "  </thead>\n",
              "  <tbody>\n",
              "    <tr>\n",
              "      <th>0</th>\n",
              "      <td>1</td>\n",
              "      <td>a stapler , particularly for suturing skin wou...</td>\n",
              "      <td>preferred embodiments of the invention are ill...</td>\n",
              "    </tr>\n",
              "    <tr>\n",
              "      <th>1</th>\n",
              "      <td>3</td>\n",
              "      <td>a rail connector and improvement in seat base ...</td>\n",
              "      <td>referring now to the drawings , and particular...</td>\n",
              "    </tr>\n",
              "    <tr>\n",
              "      <th>2</th>\n",
              "      <td>4</td>\n",
              "      <td>an anvil assembly is disclosed that includes a...</td>\n",
              "      <td>exemplary embodiments of the presently disclos...</td>\n",
              "    </tr>\n",
              "    <tr>\n",
              "      <th>3</th>\n",
              "      <td>6</td>\n",
              "      <td>the invention concerns a highly concentrated m...</td>\n",
              "      <td>1 indicates the tank containing the mixture of...</td>\n",
              "    </tr>\n",
              "    <tr>\n",
              "      <th>4</th>\n",
              "      <td>7</td>\n",
              "      <td>an automatic electro - mechanical device for o...</td>\n",
              "      <td>illustrated in fig1 and 3 is the exterior box ...</td>\n",
              "    </tr>\n",
              "    <tr>\n",
              "      <th>...</th>\n",
              "      <td>...</td>\n",
              "      <td>...</td>\n",
              "      <td>...</td>\n",
              "    </tr>\n",
              "    <tr>\n",
              "      <th>4995</th>\n",
              "      <td>6991</td>\n",
              "      <td>an inflatable chain intended for use in bathin...</td>\n",
              "      <td>the invention chair is intended to be position...</td>\n",
              "    </tr>\n",
              "    <tr>\n",
              "      <th>4996</th>\n",
              "      <td>6992</td>\n",
              "      <td>an improved method of using a convertible bowl...</td>\n",
              "      <td>an exemplary embodiment of a bowling lane made...</td>\n",
              "    </tr>\n",
              "    <tr>\n",
              "      <th>4997</th>\n",
              "      <td>6995</td>\n",
              "      <td>a device and method for monitoring the ph valu...</td>\n",
              "      <td>fig1 shows the apparatus of the preferred embo...</td>\n",
              "    </tr>\n",
              "    <tr>\n",
              "      <th>4998</th>\n",
              "      <td>6996</td>\n",
              "      <td>a hair drying apparatus consists of a curved r...</td>\n",
              "      <td>the above and other objects and features of th...</td>\n",
              "    </tr>\n",
              "    <tr>\n",
              "      <th>4999</th>\n",
              "      <td>6997</td>\n",
              "      <td>use of factor xiii for treating hemophilia a ....</td>\n",
              "      <td>the present invention fills this need by admin...</td>\n",
              "    </tr>\n",
              "  </tbody>\n",
              "</table>\n",
              "<p>5000 rows × 3 columns</p>\n",
              "</div>"
            ],
            "text/plain": [
              "      index  ...                                               text\n",
              "0         1  ...  preferred embodiments of the invention are ill...\n",
              "1         3  ...  referring now to the drawings , and particular...\n",
              "2         4  ...  exemplary embodiments of the presently disclos...\n",
              "3         6  ...  1 indicates the tank containing the mixture of...\n",
              "4         7  ...  illustrated in fig1 and 3 is the exterior box ...\n",
              "...     ...  ...                                                ...\n",
              "4995   6991  ...  the invention chair is intended to be position...\n",
              "4996   6992  ...  an exemplary embodiment of a bowling lane made...\n",
              "4997   6995  ...  fig1 shows the apparatus of the preferred embo...\n",
              "4998   6996  ...  the above and other objects and features of th...\n",
              "4999   6997  ...  the present invention fills this need by admin...\n",
              "\n",
              "[5000 rows x 3 columns]"
            ]
          },
          "metadata": {
            "tags": []
          },
          "execution_count": 15
        }
      ]
    },
    {
      "cell_type": "code",
      "metadata": {
        "colab": {
          "base_uri": "https://localhost:8080/"
        },
        "id": "lND--lc8ODCd",
        "outputId": "8b781ca3-a949-40c7-e0fd-f37e2993c8be"
      },
      "source": [
        "# shuffle and split data, set the random state as 42\n",
        "train, test = train_test_split(df_,test_size=0.1,shuffle=True, random_state=42) \n",
        "\n",
        "print(\"Train dataset length: \"+str(len(train)))\n",
        "print(\"Test dataset length: \"+ str(len(test)))"
      ],
      "execution_count": 13,
      "outputs": [
        {
          "output_type": "stream",
          "text": [
            "Train dataset length: 4500\n",
            "Test dataset length: 500\n"
          ],
          "name": "stdout"
        }
      ]
    }
  ]
}